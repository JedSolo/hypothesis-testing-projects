{
 "cells": [
  {
   "cell_type": "code",
   "execution_count": null,
   "id": "43f9f38d",
   "metadata": {},
   "outputs": [],
   "source": [
    "# import libraries\n",
    "import codecademylib3\n",
    "import pandas as pd\n",
    "import numpy as np\n",
    "from scipy.stats import ttest_1samp\n",
    "from scipy.stats import binom_test\n",
    "\n",
    "# load data\n",
    "heart = pd.read_csv('heart_disease.csv')\n",
    "yes_hd = heart[heart.heart_disease == 'presence']\n",
    "no_hd = heart[heart.heart_disease == 'absence']\n",
    "\n",
    "# Cholesterol level for patients with heart disease:\n",
    "chol_hd = yes_hd['chol']\n",
    "\n",
    "# Calculating mean cholesterol level for pateints with heart disease:\n",
    "mean_chol = np.mean(chol_hd)\n",
    "print(\"Mean Cholesterol Level:\", mean_chol)\n",
    "\n",
    "# One-sample t-tests:\n",
    "# Null: People with heart disease have an average cholesterol level equal to 240 mg/dl\n",
    "\n",
    "# Alternative: People with heart disease have an average cholesterol level that is greater than 240 mg/dl\n",
    "\n",
    "tstat, pval = ttest_1samp(chol_hd, 240)\n",
    "pval = pval/2\n",
    "print(\"P-Value:\", pval, \"\\n\")\n",
    "\n",
    "# Runing Hypothesis test for patients without heart disease:\n",
    "chol_no_hd = no_hd['chol']\n",
    "mean_chol = np.mean(chol_no_hd)\n",
    "print(\"Mean Cholesterol Level(No Heart Disease):\", mean_chol)\n",
    "\n",
    "tstat, pval = ttest_1samp(chol_no_hd, 240)\n",
    "pval = pval/2\n",
    "print(\"P-Value:\", pval, \"\\n\")\n",
    "\n",
    "# Fasting Blood Sugar Analysis:\n",
    "num_patients =len(heart)\n",
    "print('Number of Patients:', num_patients)\n",
    "\n",
    "# Number of patients with fasting blood sugar greater than 120:\n",
    "num_highfbs_patients = np.sum(heart.fbs == 1)\n",
    "print(num_highfbs_patients)\n",
    "\n",
    "print(0.08 * 303)\n",
    "\n",
    "# Binomial test:\n",
    "# Null: This sample was drawn from a population where 8% of people have a fasting blood sugar > 120 mg/dl\n",
    "\n",
    "# Alternative: This sample was drawn from a population where more than 8% of people have fasting blood sugar > 120 mg/dl\n",
    "\n",
    "p_value = binom_test(45, 303, 0.08, alternative='greater')\n",
    "print('P-value:', p_value)"
   ]
  }
 ],
 "metadata": {
  "kernelspec": {
   "display_name": "Python 3",
   "language": "python",
   "name": "python3"
  },
  "language_info": {
   "codemirror_mode": {
    "name": "ipython",
    "version": 3
   },
   "file_extension": ".py",
   "mimetype": "text/x-python",
   "name": "python",
   "nbconvert_exporter": "python",
   "pygments_lexer": "ipython3",
   "version": "3.9.1"
  }
 },
 "nbformat": 4,
 "nbformat_minor": 5
}
