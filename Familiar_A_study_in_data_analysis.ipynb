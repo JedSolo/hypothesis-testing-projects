{
 "cells": [
  {
   "cell_type": "code",
   "execution_count": null,
   "id": "3a27700d",
   "metadata": {},
   "outputs": [],
   "source": [
    "# Import libraries\n",
    "import pandas as pd\n",
    "import numpy as np\n",
    "from scipy.stats import ttest_1samp\n",
    "from scipy.stats import ttest_ind\n",
    "from scipy.stats import chi2_contingency\n",
    "\n",
    "# Load datasets\n",
    "lifespans = pd.read_csv('familiar_lifespan.csv')\n",
    "iron = pd.read_csv('familiar_iron.csv')\n",
    "\n",
    "print(lifespans.head())\n",
    "\n",
    "# Analysing the Vien Package:\n",
    "vein_pack_lifespans = lifespans.lifespan[lifespans.pack == 'vein']\n",
    "average_lifespan_vein = np.mean(vein_pack_lifespans)\n",
    "print(\"Average lifespan for Vein Pack:\", average_lifespan_vein)\n",
    "\n",
    "# Performing a one-sample test:\n",
    "# Null: The average lifespan of a Vein Pack subscriber is 73 years.\n",
    "\n",
    "# Alternative: The average lifespan of a Vein Pack subscriber is NOT 73 years.\n",
    "\n",
    "tstat, pval = ttest_1samp(vein_pack_lifespans, 73)\n",
    "print(\"P-Value:\", pval)\n",
    "\n",
    "# Upselling Familiar: Pumping Life Into The Company:\n",
    "# Comparing different package:\n",
    "artery_pack_lifespans = lifespans.lifespan[lifespans.pack == 'artery']\n",
    "average_lifespan_artery = np.mean(artery_pack_lifespans)\n",
    "print(\"Average lifespan for artery pack:\", average_lifespan_artery)\n",
    "\n",
    "# Performing a two-sample t-test:\n",
    "# Null: The average lifespan of a Vein Pack subscriber is equal to the average lifespan of an Artery Pack subscriber\n",
    "\n",
    "# Alternative: The average lifespan of a Vein Pack subscriber is NOT equal to the average lifespan of an Artery Pack subscriber.\n",
    "\n",
    "tstat, pval = ttest_ind(vein_pack_lifespans, artery_pack_lifespans)\n",
    "print('P-value:', pval)\n",
    "\n",
    "# Side Effects: A Familiar Problem:\n",
    "print(iron.head())\n",
    "Xtab = pd.crosstab(iron.pack, iron.iron)\n",
    "print(Xtab)\n",
    "\n",
    "# Performing a chi-square test:\n",
    "# Null: There is NOT an association between which pack (Vein vs. Artery) someone subscribes to and their iron level.\n",
    "\n",
    "# Alternative: There is an association between which pack (Vein vs. Artery) someone subscribes to and their iron level.\n",
    "\n",
    "chi2, pval, dof, expected = chi2_contingency(Xtab)\n",
    "print('P-value:', pval)"
   ]
  }
 ],
 "metadata": {
  "kernelspec": {
   "display_name": "Python 3",
   "language": "python",
   "name": "python3"
  },
  "language_info": {
   "codemirror_mode": {
    "name": "ipython",
    "version": 3
   },
   "file_extension": ".py",
   "mimetype": "text/x-python",
   "name": "python",
   "nbconvert_exporter": "python",
   "pygments_lexer": "ipython3",
   "version": "3.9.1"
  }
 },
 "nbformat": 4,
 "nbformat_minor": 5
}
